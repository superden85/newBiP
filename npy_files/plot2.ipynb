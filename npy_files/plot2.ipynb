{
 "cells": [
  {
   "cell_type": "code",
   "execution_count": 1,
   "metadata": {},
   "outputs": [],
   "source": [
    "import matplotlib.pyplot as plt\n",
    "import numpy as np\n",
    "from matplotlib.pyplot import subplots"
   ]
  },
  {
   "cell_type": "code",
   "execution_count": 2,
   "metadata": {},
   "outputs": [],
   "source": [
    "results_dir = 'F:\\Documents\\cours_mva\\stages\\Padova/plots_newBiP/'"
   ]
  },
  {
   "cell_type": "code",
   "execution_count": 4,
   "metadata": {},
   "outputs": [
    {
     "ename": "NameError",
     "evalue": "name 'ts_df' is not defined",
     "output_type": "error",
     "traceback": [
      "\u001b[1;31m---------------------------------------------------------------------------\u001b[0m",
      "\u001b[1;31mNameError\u001b[0m                                 Traceback (most recent call last)",
      "\u001b[1;32mf:\\Documents\\cours_mva\\stages\\Padova\\june_work\\newBiP\\npy_files\\plot2.ipynb Cell 3\u001b[0m in \u001b[0;36m<module>\u001b[1;34m\u001b[0m\n\u001b[0;32m      <a href='vscode-notebook-cell:/f%3A/Documents/cours_mva/stages/Padova/june_work/newBiP/npy_files/plot2.ipynb#W2sZmlsZQ%3D%3D?line=0'>1</a>\u001b[0m fig, ax \u001b[39m=\u001b[39m plt\u001b[39m.\u001b[39msubplots()\n\u001b[0;32m      <a href='vscode-notebook-cell:/f%3A/Documents/cours_mva/stages/Padova/june_work/newBiP/npy_files/plot2.ipynb#W2sZmlsZQ%3D%3D?line=1'>2</a>\u001b[0m \u001b[39mfor\u001b[39;00m indx, column_name \u001b[39min\u001b[39;00m \u001b[39menumerate\u001b[39m([\u001b[39m'\u001b[39m\u001b[39mA\u001b[39m\u001b[39m'\u001b[39m, \u001b[39m'\u001b[39m\u001b[39mB\u001b[39m\u001b[39m'\u001b[39m, \u001b[39m'\u001b[39m\u001b[39mC\u001b[39m\u001b[39m'\u001b[39m, \u001b[39m'\u001b[39m\u001b[39mD\u001b[39m\u001b[39m'\u001b[39m, \u001b[39m'\u001b[39m\u001b[39mE\u001b[39m\u001b[39m'\u001b[39m, \u001b[39m'\u001b[39m\u001b[39mF\u001b[39m\u001b[39m'\u001b[39m, \u001b[39m'\u001b[39m\u001b[39mG\u001b[39m\u001b[39m'\u001b[39m]):\n\u001b[1;32m----> <a href='vscode-notebook-cell:/f%3A/Documents/cours_mva/stages/Padova/june_work/newBiP/npy_files/plot2.ipynb#W2sZmlsZQ%3D%3D?line=2'>3</a>\u001b[0m     ax\u001b[39m.\u001b[39mplot(ts_df[\u001b[39m'\u001b[39m\u001b[39mDate\u001b[39m\u001b[39m'\u001b[39m], ts_df[column_name], label\u001b[39m=\u001b[39mcolumn_name)\n\u001b[0;32m      <a href='vscode-notebook-cell:/f%3A/Documents/cours_mva/stages/Padova/june_work/newBiP/npy_files/plot2.ipynb#W2sZmlsZQ%3D%3D?line=3'>4</a>\u001b[0m ax\u001b[39m.\u001b[39mtick_params(axis\u001b[39m=\u001b[39m\u001b[39m'\u001b[39m\u001b[39mx\u001b[39m\u001b[39m'\u001b[39m, labelrotation \u001b[39m=\u001b[39m \u001b[39m90\u001b[39m)\n\u001b[0;32m      <a href='vscode-notebook-cell:/f%3A/Documents/cours_mva/stages/Padova/june_work/newBiP/npy_files/plot2.ipynb#W2sZmlsZQ%3D%3D?line=4'>5</a>\u001b[0m ax\u001b[39m.\u001b[39mset(xlabel\u001b[39m=\u001b[39m\u001b[39m'\u001b[39m\u001b[39mDate\u001b[39m\u001b[39m'\u001b[39m, ylabel\u001b[39m=\u001b[39m\u001b[39m'\u001b[39m\u001b[39mValue\u001b[39m\u001b[39m'\u001b[39m)\n",
      "\u001b[1;31mNameError\u001b[0m: name 'ts_df' is not defined"
     ]
    },
    {
     "data": {
      "image/png": "[encoded data removed]",
      "text/plain": [
       "<Figure size 432x288 with 1 Axes>"
      ]
     },
     "metadata": {
      "needs_background": "light"
     },
     "output_type": "display_data"
    }
   ],
   "source": []
  }
 ],
 "metadata": {
  "kernelspec": {
   "display_name": "Python 3",
   "language": "python",
   "name": "python3"
  },
  "language_info": {
   "codemirror_mode": {
    "name": "ipython",
    "version": 3
   },
   "file_extension": ".py",
   "mimetype": "text/x-python",
   "name": "python",
   "nbconvert_exporter": "python",
   "pygments_lexer": "ipython3",
   "version": "3.10.2"
  },
  "orig_nbformat": 4
 },
 "nbformat": 4,
 "nbformat_minor": 2
}
